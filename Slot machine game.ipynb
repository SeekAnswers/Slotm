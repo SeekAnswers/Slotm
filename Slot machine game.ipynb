{
 "cells": [
  {
   "cell_type": "markdown",
   "metadata": {},
   "source": [
    "We need to get users deposit and then their bet, we can do this by Creating a function called Deposit."
   ]
  },
  {
   "cell_type": "code",
   "execution_count": 46,
   "metadata": {},
   "outputs": [],
   "source": [
    "import random #This can be at the first cell or at the top of the program as well"
   ]
  },
  {
   "cell_type": "code",
   "execution_count": 47,
   "metadata": {},
   "outputs": [],
   "source": [
    "#This was added later on to keep the program nice and dynamic, it is a global constant for the project\n",
    "MAX_LINES = 3\n",
    "MAX_BETS = 100\n",
    "MIN_BET = 1\n",
    "ROWS = 3  \n",
    "COLS = 3\n",
    "\n",
    "symbol_count = {\n",
    "    'A': 2,\n",
    "    'B': 4,\n",
    "    'C': 6,\n",
    "    'D': 8\n",
    "}\n",
    "\n",
    "symbol_value = {\n",
    "    'A': 5,\n",
    "    'B': 4,\n",
    "    'C': 3,\n",
    "    'D': 2\n",
    "}"
   ]
  },
  {
   "cell_type": "code",
   "execution_count": 48,
   "metadata": {},
   "outputs": [],
   "source": [
    "def check_winnings(columns, lines, bet, values):\n",
    "    winnings = 0\n",
    "    winning_lines = []\n",
    "    for line in range(lines):\n",
    "        symbol = columns[0][line]\n",
    "        for column in columns:\n",
    "            symbol_to_check = column[line]\n",
    "            if symbol != symbol_to_check:\n",
    "                break\n",
    "        else:\n",
    "            winnings += values[symbol] * bet\n",
    "            winning_lines.append(lines + 1)\n",
    "\n",
    "    return winnings, winning_lines\n"
   ]
  },
  {
   "cell_type": "markdown",
   "metadata": {},
   "source": [
    "We need to get sth(a function), that would generate what the outcome of the slot machine will be using the values in the first cell including the symbol count"
   ]
  },
  {
   "cell_type": "code",
   "execution_count": 49,
   "metadata": {},
   "outputs": [],
   "source": [
    "def deposit():\n",
    "    while True:\n",
    "        amount = input('what would you like to deposit? $')\n",
    "        if amount.isdigit():\n",
    "            amount = int(amount)\n",
    "            if amount > 0:\n",
    "                break\n",
    "            else:\n",
    "                print('Amount must be greater than 0.')\n",
    "        else:\n",
    "            print('Please enter number.')\n",
    "\n",
    "    return amount        "
   ]
  },
  {
   "cell_type": "code",
   "execution_count": 50,
   "metadata": {},
   "outputs": [],
   "source": [
    "def get_slot_machine_spin(rows, cols, symbols):\n",
    "    all_symbols = []\n",
    "    for symbol, symbol_count in symbols.items():\n",
    "        for _ in range(symbol_count):\n",
    "            all_symbols.append(symbol)\n",
    "        #print(all_symbols)\n",
    "\n",
    "    columns = []\n",
    "    for _ in range(cols):\n",
    "        column = []\n",
    "        current_symbols = all_symbols[:]\n",
    "        for _ in range(rows):\n",
    "            #value = random.choice(all_symbols)\n",
    "            value = random.choice(current_symbols)\n",
    "            current_symbols.remove(value)\n",
    "            column.append(value)\n",
    "        \n",
    "        columns.append(column)\n",
    "    #print(columns)\n",
    "\n",
    "    return columns\n",
    "\n",
    "def print_slot_machine(columns):\n",
    "    for row in range(len(columns[0])):\n",
    "        for i, column in enumerate (columns):\n",
    "            if i != len(columns) - 1:\n",
    "                print(column[row], end = ' | ')\n",
    "            else:\n",
    "                print(column[row], end = '')\n",
    "\n",
    "        print()"
   ]
  },
  {
   "cell_type": "markdown",
   "metadata": {},
   "source": [
    "Collect bet from user"
   ]
  },
  {
   "cell_type": "code",
   "execution_count": 51,
   "metadata": {},
   "outputs": [],
   "source": [
    "def get_number_of_lines():\n",
    "    while True:\n",
    "        lines = input('Enter number of lines to bet on(1-' + str(MAX_LINES) + ')? ')\n",
    "        if lines.isdigit():\n",
    "            lines = int(lines)\n",
    "            if 1<= lines <= MAX_LINES:\n",
    "                break\n",
    "            else:\n",
    "                print('Enter a valid number of lines.')\n",
    "        else:\n",
    "            print('Please enter number.')\n",
    "\n",
    "    return lines        "
   ]
  },
  {
   "cell_type": "code",
   "execution_count": 52,
   "metadata": {},
   "outputs": [],
   "source": [
    "def get_bet():\n",
    "    while True:\n",
    "        amount = input('what would you like to bet on each line? $')\n",
    "        if amount.isdigit():\n",
    "            amount = int(amount)\n",
    "            if MIN_BET <= amount <= MAX_BETS:\n",
    "                break\n",
    "            else:\n",
    "                print(f'Amount must be between ${MIN_BET} - ${MAX_BETS}.')\n",
    "        else:\n",
    "            print('Please enter number.')\n",
    "\n",
    "    return amount    "
   ]
  },
  {
   "cell_type": "markdown",
   "metadata": {},
   "source": [
    "Call the function"
   ]
  },
  {
   "cell_type": "code",
   "execution_count": 55,
   "metadata": {},
   "outputs": [
    {
     "name": "stdout",
     "output_type": "stream",
     "text": [
      "Current balance is $100\n",
      "You are betting $12 on 2 lines. Total bet is equal to: $24\n",
      "D | D | B\n",
      "D | D | B\n",
      "D | C | A\n",
      "You won $0.\n",
      "You won on lines:\n",
      "Current balance is $76\n",
      "Please enter number.\n",
      "Please enter number.\n",
      "Please enter number.\n",
      "Please enter number.\n",
      "Please enter number.\n",
      "Please enter number.\n",
      "Please enter number.\n",
      "Please enter number.\n",
      "Please enter number.\n",
      "Please enter number.\n"
     ]
    }
   ],
   "source": [
    "def spin(balance):\n",
    "    lines = get_number_of_lines()\n",
    "    while True:\n",
    "\n",
    "        bet = get_bet()\n",
    "        total_bet  = bet * lines\n",
    "\n",
    "        if total_bet > balance:\n",
    "            print(f'You do not have enough to bet that amount, your current balance is: ${balance}')\n",
    "\n",
    "        else:\n",
    "            break\n",
    "    print(f'You are betting ${bet} on {lines} lines. Total bet is equal to: ${total_bet}')\n",
    "    slots = get_slot_machine_spin(ROWS, COLS, symbol_count)\n",
    "    print_slot_machine(slots)\n",
    "    winnings, winning_lines = check_winnings(slots, lines, bet, symbol_value)\n",
    "    print(f'You won ${winnings}.')\n",
    "    print(f'You won on lines:', *winning_lines)\n",
    "    return winnings - total_bet\n",
    "\n",
    "\n",
    "\n",
    "\n",
    "\n",
    "\n",
    "def main():\n",
    "    balance = deposit()\n",
    "    while True:\n",
    "        print(f'Current balance is ${balance}' )\n",
    "        spin_result = input('Press enter to play(q to quit).')\n",
    "        if spin_result == 'q':\n",
    "            break\n",
    "        balance += spin(balance)\n",
    "\n",
    "    print(f'You left with ${balance}')\n",
    "\n",
    "main()\n",
    "\n",
    "\n",
    "\n",
    "# def main():\n",
    "#     balance = deposit()\n",
    "#     lines = get_number_of_lines()\n",
    "#     while True:\n",
    "\n",
    "    #     bet = get_bet()\n",
    "    #     total_bet  = bet * lines\n",
    "\n",
    "    #     if total_bet > balance:\n",
    "    #         print(f'You do not have enough to bet that amount, your current balance is: ${balance}')\n",
    "\n",
    "    #     else:\n",
    "    #         break\n",
    "    # print(f'You are betting ${bet} on {lines} lines. Total bet is equal to: ${total_bet}')\n",
    "    # slots = get_slot_machine_spin(ROWS, COLS, symbol_count)\n",
    "    # print_slot_machine(slots)\n",
    "    # winnings, winning_lines = check_winnings(slots, lines, bet, symbol_value)\n",
    "    # print(f'You won ${winnings}.')\n",
    "#     print(f'You won on lines:', *winning_lines)\n",
    "\n",
    "\n",
    "\n",
    "# main()"
   ]
  },
  {
   "cell_type": "markdown",
   "metadata": {},
   "source": []
  },
  {
   "cell_type": "code",
   "execution_count": null,
   "metadata": {},
   "outputs": [],
   "source": []
  },
  {
   "cell_type": "markdown",
   "metadata": {},
   "source": [
    "**note** - This was initially done at this point in the project, then I moved it as well ass the code below up***\n",
    "\n",
    "We need to run the slot machine, so we would need to import some modules, if not installed on system, you can download possibly using ! or % and them import. We would/have set values among our global constants to indicate the number of rows and columns we would have in our slot machine."
   ]
  },
  {
   "cell_type": "code",
   "execution_count": null,
   "metadata": {},
   "outputs": [],
   "source": [
    "# import random #This can be at the first cell or at the top of the program as well"
   ]
  },
  {
   "cell_type": "markdown",
   "metadata": {},
   "source": [
    "**note** - This was initially done at this point in the project, then I moved it as well ass the code below up***\n",
    "\n",
    "We need to get sth(a function), that would generate what the outcome of the slot machine will be using the values in the first cell including the symbol count"
   ]
  },
  {
   "cell_type": "code",
   "execution_count": null,
   "metadata": {},
   "outputs": [],
   "source": [
    "# def get_slot_machine_spin(rows, cols, symbols):\n",
    "#     all_symbols = []\n",
    "#     for symbol, symbol_count in symbols.items():\n",
    "#         for _ in range(symbol_count):\n",
    "#             all_symbols.append(symbol)\n",
    "\n",
    "#     columns = [[], [], []]\n",
    "#     for _ in range(cols):\n",
    "#         column = []\n",
    "#         current_symbols = all_symbols[:]\n",
    "#         for _ in range(rows):\n",
    "#             value = random.choice(all_symbols)\n",
    "#             current_symbols.remove(value)\n",
    "#             column.append(value)\n",
    "        \n",
    "#         columns.append(column)\n",
    "\n",
    "#     return columns\n",
    "\n",
    "# def print_slot_machine(columns):\n",
    "#     for row in range(len(columns[0])):\n",
    "#         for i, column in enumerate (columns):\n",
    "#             if i != len(columns) - 1:\n",
    "#                 print(column[row], '|')\n",
    "#             else:\n",
    "#                 print(column[row])"
   ]
  },
  {
   "cell_type": "markdown",
   "metadata": {},
   "source": [
    "Now designing such that if player betting lines are defined, the code is at the top, but it is at this point it was decided.\n",
    "\n",
    "This is the code here, but note, I have as well put it at the top\n"
   ]
  },
  {
   "cell_type": "code",
   "execution_count": null,
   "metadata": {},
   "outputs": [],
   "source": [
    "\n",
    "# def check_winnings(columns, lines, bet, values):\n",
    "#     winnings = 0\n",
    "#     winning_lines = []\n",
    "#     for line in range(lines):\n",
    "#         symbol = columns[0][line]\n",
    "#         for column in columns:\n",
    "#             symbol_to_check = column[line]\n",
    "#             if symbol != symbol_to_check:\n",
    "#                 break\n",
    "#         else:\n",
    "#             winnings += values[symbol] * bet\n",
    "#             winning_lines.append(lines + 1)\n",
    "\n",
    "#     return winnings, winning_lines\n"
   ]
  },
  {
   "cell_type": "markdown",
   "metadata": {},
   "source": []
  }
 ],
 "metadata": {
  "kernelspec": {
   "display_name": "Python 3",
   "language": "python",
   "name": "python3"
  },
  "language_info": {
   "codemirror_mode": {
    "name": "ipython",
    "version": 3
   },
   "file_extension": ".py",
   "mimetype": "text/x-python",
   "name": "python",
   "nbconvert_exporter": "python",
   "pygments_lexer": "ipython3",
   "version": "3.12.3"
  }
 },
 "nbformat": 4,
 "nbformat_minor": 2
}
